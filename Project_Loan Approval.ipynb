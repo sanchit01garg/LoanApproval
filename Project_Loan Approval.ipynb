{
 "cells": [
  {
   "cell_type": "code",
   "execution_count": 2,
   "metadata": {},
   "outputs": [],
   "source": [
    "#Importing required modules\n",
    "from tensorflow import keras\n",
    "from keras import optimizers\n",
    "import numpy as np\n",
    "import pandas as pd\n",
    "import seaborn as sns\n",
    "from math import ceil\n",
    "from keras import Sequential\n",
    "from keras.layers import Dense\n",
    "from sklearn import model_selection\n",
    "pd.plotting.register_matplotlib_converters()\n",
    "from sklearn.metrics import confusion_matrix\n",
    "from keras.callbacks import ReduceLROnPlateau\n",
    "from sklearn.preprocessing import StandardScaler\n",
    "from sklearn.metrics import classification_report\n",
    "from sklearn.linear_model import LogisticRegression\n",
    "import matplotlib.pyplot as plt\n",
    "import warnings\n",
    "warnings.filterwarnings('ignore')\n",
    "%matplotlib inline\n",
    "sns.set()"
   ]
  },
  {
   "cell_type": "markdown",
   "metadata": {},
   "source": [
    "# Data Exploration & Cleaning"
   ]
  },
  {
   "cell_type": "code",
   "execution_count": 3,
   "metadata": {},
   "outputs": [],
   "source": [
    "data = pd.read_csv('SBAnational.csv')"
   ]
  },
  {
   "cell_type": "code",
   "execution_count": 4,
   "metadata": {},
   "outputs": [
    {
     "data": {
      "text/html": [
       "<div>\n",
       "<style scoped>\n",
       "    .dataframe tbody tr th:only-of-type {\n",
       "        vertical-align: middle;\n",
       "    }\n",
       "\n",
       "    .dataframe tbody tr th {\n",
       "        vertical-align: top;\n",
       "    }\n",
       "\n",
       "    .dataframe thead th {\n",
       "        text-align: right;\n",
       "    }\n",
       "</style>\n",
       "<table border=\"1\" class=\"dataframe\">\n",
       "  <thead>\n",
       "    <tr style=\"text-align: right;\">\n",
       "      <th></th>\n",
       "      <th>LoanNr_ChkDgt</th>\n",
       "      <th>Name</th>\n",
       "      <th>City</th>\n",
       "      <th>State</th>\n",
       "      <th>Zip</th>\n",
       "      <th>Bank</th>\n",
       "      <th>BankState</th>\n",
       "      <th>NAICS</th>\n",
       "      <th>ApprovalDate</th>\n",
       "      <th>ApprovalFY</th>\n",
       "      <th>...</th>\n",
       "      <th>RevLineCr</th>\n",
       "      <th>LowDoc</th>\n",
       "      <th>ChgOffDate</th>\n",
       "      <th>DisbursementDate</th>\n",
       "      <th>DisbursementGross</th>\n",
       "      <th>BalanceGross</th>\n",
       "      <th>MIS_Status</th>\n",
       "      <th>ChgOffPrinGr</th>\n",
       "      <th>GrAppv</th>\n",
       "      <th>SBA_Appv</th>\n",
       "    </tr>\n",
       "  </thead>\n",
       "  <tbody>\n",
       "    <tr>\n",
       "      <th>0</th>\n",
       "      <td>1000014003</td>\n",
       "      <td>ABC HOBBYCRAFT</td>\n",
       "      <td>EVANSVILLE</td>\n",
       "      <td>IN</td>\n",
       "      <td>47711</td>\n",
       "      <td>FIFTH THIRD BANK</td>\n",
       "      <td>OH</td>\n",
       "      <td>451120</td>\n",
       "      <td>28-Feb-97</td>\n",
       "      <td>1997</td>\n",
       "      <td>...</td>\n",
       "      <td>N</td>\n",
       "      <td>Y</td>\n",
       "      <td>NaN</td>\n",
       "      <td>28-Feb-99</td>\n",
       "      <td>$60,000.00</td>\n",
       "      <td>$0.00</td>\n",
       "      <td>P I F</td>\n",
       "      <td>$0.00</td>\n",
       "      <td>$60,000.00</td>\n",
       "      <td>$48,000.00</td>\n",
       "    </tr>\n",
       "    <tr>\n",
       "      <th>1</th>\n",
       "      <td>1000024006</td>\n",
       "      <td>LANDMARK BAR &amp; GRILLE (THE)</td>\n",
       "      <td>NEW PARIS</td>\n",
       "      <td>IN</td>\n",
       "      <td>46526</td>\n",
       "      <td>1ST SOURCE BANK</td>\n",
       "      <td>IN</td>\n",
       "      <td>722410</td>\n",
       "      <td>28-Feb-97</td>\n",
       "      <td>1997</td>\n",
       "      <td>...</td>\n",
       "      <td>N</td>\n",
       "      <td>Y</td>\n",
       "      <td>NaN</td>\n",
       "      <td>31-May-97</td>\n",
       "      <td>$40,000.00</td>\n",
       "      <td>$0.00</td>\n",
       "      <td>P I F</td>\n",
       "      <td>$0.00</td>\n",
       "      <td>$40,000.00</td>\n",
       "      <td>$32,000.00</td>\n",
       "    </tr>\n",
       "    <tr>\n",
       "      <th>2</th>\n",
       "      <td>1000034009</td>\n",
       "      <td>WHITLOCK DDS, TODD M.</td>\n",
       "      <td>BLOOMINGTON</td>\n",
       "      <td>IN</td>\n",
       "      <td>47401</td>\n",
       "      <td>GRANT COUNTY STATE BANK</td>\n",
       "      <td>IN</td>\n",
       "      <td>621210</td>\n",
       "      <td>28-Feb-97</td>\n",
       "      <td>1997</td>\n",
       "      <td>...</td>\n",
       "      <td>N</td>\n",
       "      <td>N</td>\n",
       "      <td>NaN</td>\n",
       "      <td>31-Dec-97</td>\n",
       "      <td>$287,000.00</td>\n",
       "      <td>$0.00</td>\n",
       "      <td>P I F</td>\n",
       "      <td>$0.00</td>\n",
       "      <td>$287,000.00</td>\n",
       "      <td>$215,250.00</td>\n",
       "    </tr>\n",
       "    <tr>\n",
       "      <th>3</th>\n",
       "      <td>1000044001</td>\n",
       "      <td>BIG BUCKS PAWN &amp; JEWELRY, LLC</td>\n",
       "      <td>BROKEN ARROW</td>\n",
       "      <td>OK</td>\n",
       "      <td>74012</td>\n",
       "      <td>1ST NATL BK &amp; TR CO OF BROKEN</td>\n",
       "      <td>OK</td>\n",
       "      <td>0</td>\n",
       "      <td>28-Feb-97</td>\n",
       "      <td>1997</td>\n",
       "      <td>...</td>\n",
       "      <td>N</td>\n",
       "      <td>Y</td>\n",
       "      <td>NaN</td>\n",
       "      <td>30-Jun-97</td>\n",
       "      <td>$35,000.00</td>\n",
       "      <td>$0.00</td>\n",
       "      <td>P I F</td>\n",
       "      <td>$0.00</td>\n",
       "      <td>$35,000.00</td>\n",
       "      <td>$28,000.00</td>\n",
       "    </tr>\n",
       "    <tr>\n",
       "      <th>4</th>\n",
       "      <td>1000054004</td>\n",
       "      <td>ANASTASIA CONFECTIONS, INC.</td>\n",
       "      <td>ORLANDO</td>\n",
       "      <td>FL</td>\n",
       "      <td>32801</td>\n",
       "      <td>FLORIDA BUS. DEVEL CORP</td>\n",
       "      <td>FL</td>\n",
       "      <td>0</td>\n",
       "      <td>28-Feb-97</td>\n",
       "      <td>1997</td>\n",
       "      <td>...</td>\n",
       "      <td>N</td>\n",
       "      <td>N</td>\n",
       "      <td>NaN</td>\n",
       "      <td>14-May-97</td>\n",
       "      <td>$229,000.00</td>\n",
       "      <td>$0.00</td>\n",
       "      <td>P I F</td>\n",
       "      <td>$0.00</td>\n",
       "      <td>$229,000.00</td>\n",
       "      <td>$229,000.00</td>\n",
       "    </tr>\n",
       "  </tbody>\n",
       "</table>\n",
       "<p>5 rows × 27 columns</p>\n",
       "</div>"
      ],
      "text/plain": [
       "   LoanNr_ChkDgt                           Name          City State    Zip  \\\n",
       "0     1000014003                 ABC HOBBYCRAFT    EVANSVILLE    IN  47711   \n",
       "1     1000024006    LANDMARK BAR & GRILLE (THE)     NEW PARIS    IN  46526   \n",
       "2     1000034009          WHITLOCK DDS, TODD M.   BLOOMINGTON    IN  47401   \n",
       "3     1000044001  BIG BUCKS PAWN & JEWELRY, LLC  BROKEN ARROW    OK  74012   \n",
       "4     1000054004    ANASTASIA CONFECTIONS, INC.       ORLANDO    FL  32801   \n",
       "\n",
       "                            Bank BankState   NAICS ApprovalDate ApprovalFY  \\\n",
       "0               FIFTH THIRD BANK        OH  451120    28-Feb-97       1997   \n",
       "1                1ST SOURCE BANK        IN  722410    28-Feb-97       1997   \n",
       "2        GRANT COUNTY STATE BANK        IN  621210    28-Feb-97       1997   \n",
       "3  1ST NATL BK & TR CO OF BROKEN        OK       0    28-Feb-97       1997   \n",
       "4        FLORIDA BUS. DEVEL CORP        FL       0    28-Feb-97       1997   \n",
       "\n",
       "   ...  RevLineCr  LowDoc  ChgOffDate  DisbursementDate  DisbursementGross  \\\n",
       "0  ...          N       Y         NaN         28-Feb-99        $60,000.00    \n",
       "1  ...          N       Y         NaN         31-May-97        $40,000.00    \n",
       "2  ...          N       N         NaN         31-Dec-97       $287,000.00    \n",
       "3  ...          N       Y         NaN         30-Jun-97        $35,000.00    \n",
       "4  ...          N       N         NaN         14-May-97       $229,000.00    \n",
       "\n",
       "   BalanceGross  MIS_Status ChgOffPrinGr        GrAppv      SBA_Appv  \n",
       "0        $0.00        P I F       $0.00    $60,000.00    $48,000.00   \n",
       "1        $0.00        P I F       $0.00    $40,000.00    $32,000.00   \n",
       "2        $0.00        P I F       $0.00   $287,000.00   $215,250.00   \n",
       "3        $0.00        P I F       $0.00    $35,000.00    $28,000.00   \n",
       "4        $0.00        P I F       $0.00   $229,000.00   $229,000.00   \n",
       "\n",
       "[5 rows x 27 columns]"
      ]
     },
     "execution_count": 4,
     "metadata": {},
     "output_type": "execute_result"
    }
   ],
   "source": [
    "#first 5 entries in data.\n",
    "data.head()"
   ]
  },
  {
   "cell_type": "code",
   "execution_count": 5,
   "metadata": {},
   "outputs": [
    {
     "name": "stdout",
     "output_type": "stream",
     "text": [
      "Index(['LoanNr_ChkDgt', 'Name', 'City', 'State', 'Zip', 'Bank', 'BankState',\n",
      "       'NAICS', 'ApprovalDate', 'ApprovalFY', 'Term', 'NoEmp', 'NewExist',\n",
      "       'CreateJob', 'RetainedJob', 'FranchiseCode', 'UrbanRural', 'RevLineCr',\n",
      "       'LowDoc', 'ChgOffDate', 'DisbursementDate', 'DisbursementGross',\n",
      "       'BalanceGross', 'MIS_Status', 'ChgOffPrinGr', 'GrAppv', 'SBA_Appv'],\n",
      "      dtype='object')\n"
     ]
    }
   ],
   "source": [
    "#columns (variables) in the dataset.\n",
    "columns = data.columns\n",
    "print(columns)"
   ]
  },
  {
   "cell_type": "code",
   "execution_count": 6,
   "metadata": {},
   "outputs": [
    {
     "name": "stdout",
     "output_type": "stream",
     "text": [
      "Rows :  899164\n",
      "Columns :  27\n"
     ]
    }
   ],
   "source": [
    "#dimensions of the data\n",
    "print('Rows : ', data.shape[0])\n",
    "print('Columns : ', data.shape[1])"
   ]
  },
  {
   "cell_type": "markdown",
   "metadata": {},
   "source": [
    "## Missing Values\n",
    "### *Finding missing values as the percentage of the total entries*."
   ]
  },
  {
   "cell_type": "code",
   "execution_count": 7,
   "metadata": {},
   "outputs": [
    {
     "name": "stdout",
     "output_type": "stream",
     "text": [
      "                   Total    Percent\n",
      "ChgOffDate        736465  81.905526\n",
      "RevLineCr           4528   0.503579\n",
      "LowDoc              2582   0.287156\n",
      "DisbursementDate    2368   0.263356\n",
      "MIS_Status          1997   0.222095\n",
      "BankState           1566   0.174162\n",
      "Bank                1559   0.173383\n",
      "NewExist             136   0.015125\n",
      "City                  30   0.003336\n",
      "State                 14   0.001557\n",
      "Name                  14   0.001557\n"
     ]
    }
   ],
   "source": [
    "#computing the total missing values in each column.\n",
    "total = data.isnull().sum().sort_values(ascending = False)\n",
    "#converting in percentage.\n",
    "percent = (total/data.shape[0])*100\n",
    "missing_data = pd.concat([total, percent], axis = 1, keys = ['Total', 'Percent'])\n",
    "#printing only those columns which have missing values.\n",
    "print(missing_data[missing_data.Percent > 0])"
   ]
  },
  {
   "cell_type": "markdown",
   "metadata": {},
   "source": [
    "### As the column *'ChgOffDate'*  has considerably high number of missing values, thus we'll drop this columns. Other columns have insignificant number of missing values ( even less than 1% ), so we'll just remove the corresponding entries rather than removing the columns."
   ]
  },
  {
   "cell_type": "code",
   "execution_count": 8,
   "metadata": {},
   "outputs": [],
   "source": [
    "#removing the 'ChgoOffDate' column\n",
    "data.drop('ChgOffDate', axis = 1, inplace = True)"
   ]
  },
  {
   "cell_type": "code",
   "execution_count": 9,
   "metadata": {},
   "outputs": [],
   "source": [
    "#dropping the rows containing a missing value in any column.\n",
    "data.dropna(inplace = True)"
   ]
  },
  {
   "cell_type": "code",
   "execution_count": 10,
   "metadata": {},
   "outputs": [],
   "source": [
    "#reseting the indices.\n",
    "data.reset_index(inplace = True, drop = True)"
   ]
  },
  {
   "cell_type": "code",
   "execution_count": 11,
   "metadata": {},
   "outputs": [
    {
     "data": {
      "text/html": [
       "<div>\n",
       "<style scoped>\n",
       "    .dataframe tbody tr th:only-of-type {\n",
       "        vertical-align: middle;\n",
       "    }\n",
       "\n",
       "    .dataframe tbody tr th {\n",
       "        vertical-align: top;\n",
       "    }\n",
       "\n",
       "    .dataframe thead th {\n",
       "        text-align: right;\n",
       "    }\n",
       "</style>\n",
       "<table border=\"1\" class=\"dataframe\">\n",
       "  <thead>\n",
       "    <tr style=\"text-align: right;\">\n",
       "      <th></th>\n",
       "      <th>LoanNr_ChkDgt</th>\n",
       "      <th>Zip</th>\n",
       "      <th>NAICS</th>\n",
       "      <th>Term</th>\n",
       "      <th>NoEmp</th>\n",
       "      <th>NewExist</th>\n",
       "      <th>CreateJob</th>\n",
       "      <th>RetainedJob</th>\n",
       "      <th>FranchiseCode</th>\n",
       "      <th>UrbanRural</th>\n",
       "    </tr>\n",
       "  </thead>\n",
       "  <tbody>\n",
       "    <tr>\n",
       "      <th>count</th>\n",
       "      <td>8.862400e+05</td>\n",
       "      <td>886240.000000</td>\n",
       "      <td>886240.000000</td>\n",
       "      <td>886240.000000</td>\n",
       "      <td>886240.000000</td>\n",
       "      <td>886240.000000</td>\n",
       "      <td>886240.000000</td>\n",
       "      <td>886240.000000</td>\n",
       "      <td>886240.000000</td>\n",
       "      <td>886240.000000</td>\n",
       "    </tr>\n",
       "    <tr>\n",
       "      <th>mean</th>\n",
       "      <td>4.764531e+09</td>\n",
       "      <td>53863.829072</td>\n",
       "      <td>399251.824562</td>\n",
       "      <td>110.954647</td>\n",
       "      <td>11.420650</td>\n",
       "      <td>1.279900</td>\n",
       "      <td>8.463092</td>\n",
       "      <td>10.842406</td>\n",
       "      <td>2762.323810</td>\n",
       "      <td>0.759725</td>\n",
       "    </tr>\n",
       "    <tr>\n",
       "      <th>std</th>\n",
       "      <td>2.539319e+09</td>\n",
       "      <td>31183.864500</td>\n",
       "      <td>263211.592441</td>\n",
       "      <td>78.990583</td>\n",
       "      <td>74.187995</td>\n",
       "      <td>0.451509</td>\n",
       "      <td>237.301746</td>\n",
       "      <td>237.739546</td>\n",
       "      <td>12776.276419</td>\n",
       "      <td>0.646074</td>\n",
       "    </tr>\n",
       "    <tr>\n",
       "      <th>min</th>\n",
       "      <td>1.000014e+09</td>\n",
       "      <td>0.000000</td>\n",
       "      <td>0.000000</td>\n",
       "      <td>0.000000</td>\n",
       "      <td>0.000000</td>\n",
       "      <td>0.000000</td>\n",
       "      <td>0.000000</td>\n",
       "      <td>0.000000</td>\n",
       "      <td>0.000000</td>\n",
       "      <td>0.000000</td>\n",
       "    </tr>\n",
       "    <tr>\n",
       "      <th>25%</th>\n",
       "      <td>2.577612e+09</td>\n",
       "      <td>27610.000000</td>\n",
       "      <td>235310.000000</td>\n",
       "      <td>60.000000</td>\n",
       "      <td>2.000000</td>\n",
       "      <td>1.000000</td>\n",
       "      <td>0.000000</td>\n",
       "      <td>0.000000</td>\n",
       "      <td>1.000000</td>\n",
       "      <td>0.000000</td>\n",
       "    </tr>\n",
       "    <tr>\n",
       "      <th>50%</th>\n",
       "      <td>4.351670e+09</td>\n",
       "      <td>55416.000000</td>\n",
       "      <td>445310.000000</td>\n",
       "      <td>84.000000</td>\n",
       "      <td>4.000000</td>\n",
       "      <td>1.000000</td>\n",
       "      <td>0.000000</td>\n",
       "      <td>1.000000</td>\n",
       "      <td>1.000000</td>\n",
       "      <td>1.000000</td>\n",
       "    </tr>\n",
       "    <tr>\n",
       "      <th>75%</th>\n",
       "      <td>6.878439e+09</td>\n",
       "      <td>83709.000000</td>\n",
       "      <td>561740.000000</td>\n",
       "      <td>120.000000</td>\n",
       "      <td>10.000000</td>\n",
       "      <td>2.000000</td>\n",
       "      <td>1.000000</td>\n",
       "      <td>4.000000</td>\n",
       "      <td>1.000000</td>\n",
       "      <td>1.000000</td>\n",
       "    </tr>\n",
       "    <tr>\n",
       "      <th>max</th>\n",
       "      <td>9.996003e+09</td>\n",
       "      <td>99999.000000</td>\n",
       "      <td>928120.000000</td>\n",
       "      <td>569.000000</td>\n",
       "      <td>9999.000000</td>\n",
       "      <td>2.000000</td>\n",
       "      <td>8800.000000</td>\n",
       "      <td>9500.000000</td>\n",
       "      <td>99999.000000</td>\n",
       "      <td>2.000000</td>\n",
       "    </tr>\n",
       "  </tbody>\n",
       "</table>\n",
       "</div>"
      ],
      "text/plain": [
       "       LoanNr_ChkDgt            Zip          NAICS           Term  \\\n",
       "count   8.862400e+05  886240.000000  886240.000000  886240.000000   \n",
       "mean    4.764531e+09   53863.829072  399251.824562     110.954647   \n",
       "std     2.539319e+09   31183.864500  263211.592441      78.990583   \n",
       "min     1.000014e+09       0.000000       0.000000       0.000000   \n",
       "25%     2.577612e+09   27610.000000  235310.000000      60.000000   \n",
       "50%     4.351670e+09   55416.000000  445310.000000      84.000000   \n",
       "75%     6.878439e+09   83709.000000  561740.000000     120.000000   \n",
       "max     9.996003e+09   99999.000000  928120.000000     569.000000   \n",
       "\n",
       "               NoEmp       NewExist      CreateJob    RetainedJob  \\\n",
       "count  886240.000000  886240.000000  886240.000000  886240.000000   \n",
       "mean       11.420650       1.279900       8.463092      10.842406   \n",
       "std        74.187995       0.451509     237.301746     237.739546   \n",
       "min         0.000000       0.000000       0.000000       0.000000   \n",
       "25%         2.000000       1.000000       0.000000       0.000000   \n",
       "50%         4.000000       1.000000       0.000000       1.000000   \n",
       "75%        10.000000       2.000000       1.000000       4.000000   \n",
       "max      9999.000000       2.000000    8800.000000    9500.000000   \n",
       "\n",
       "       FranchiseCode     UrbanRural  \n",
       "count  886240.000000  886240.000000  \n",
       "mean     2762.323810       0.759725  \n",
       "std     12776.276419       0.646074  \n",
       "min         0.000000       0.000000  \n",
       "25%         1.000000       0.000000  \n",
       "50%         1.000000       1.000000  \n",
       "75%         1.000000       1.000000  \n",
       "max     99999.000000       2.000000  "
      ]
     },
     "execution_count": 11,
     "metadata": {},
     "output_type": "execute_result"
    }
   ],
   "source": [
    "data.describe()"
   ]
  },
  {
   "cell_type": "markdown",
   "metadata": {},
   "source": [
    "## Extracting the Industry code from the NAICS codes\n",
    "### The first two digits of the North American Industry Classification System (NAICS) denote the Industry the particular business establishement belongs to. \n",
    "### Sector Description\n",
    "#### 11 Agriculture, forestry, fishing and hunting\n",
    "#### 21 Mining, quarrying, and oil and gas extraction\n",
    "#### 22 Utilities\n",
    "#### 23 Construction\n",
    "#### 31–33 Manufacturing\n",
    "#### 42 Wholesale trade\n",
    "#### 44–45 Retail trade\n",
    "#### 48–49 Transportation and warehousing\n",
    "#### 51 Information\n",
    "#### 52 Finance and insurance\n",
    "#### 53 Real estate and rental and leasing\n",
    "#### 54 Professional, scientific, and technical services\n",
    "#### 55 Management of companies and enterprises\n",
    "#### 56 Administrative and support and waste management and remediation services\n",
    "#### 61 Educational services\n",
    "#### 62 Health care and social assistance\n",
    "#### 71 Arts, entertainment, and recreation\n",
    "#### 72 Accommodation and food services\n",
    "#### 81 Other services (except public administration) 92 Public administration\n",
    "### Hence extracting the first two digits."
   ]
  },
  {
   "cell_type": "code",
   "execution_count": 12,
   "metadata": {},
   "outputs": [],
   "source": [
    "#a function 'extract' to extract the first 2 digits of the NAICS code.\n",
    "def extract(x):\n",
    "    if(x > 0):\n",
    "        digits = str(x)[0:2]\n",
    "        return int(digits)\n",
    "    return 0"
   ]
  },
  {
   "cell_type": "code",
   "execution_count": 13,
   "metadata": {},
   "outputs": [],
   "source": [
    "#getting the NAICS entry for each row\n",
    "code = data.NAICS.values\n",
    "for i in range(len(code)):\n",
    "    #changing and saving the code in a list\n",
    "    code[i] = extract(code[i])"
   ]
  },
  {
   "cell_type": "code",
   "execution_count": 14,
   "metadata": {},
   "outputs": [
    {
     "data": {
      "text/plain": [
       "0         45\n",
       "1         72\n",
       "2         62\n",
       "3          0\n",
       "4          0\n",
       "          ..\n",
       "886235    45\n",
       "886236    45\n",
       "886237    33\n",
       "886238     0\n",
       "886239     0\n",
       "Name: NAICS, Length: 886240, dtype: int64"
      ]
     },
     "execution_count": 14,
     "metadata": {},
     "output_type": "execute_result"
    }
   ],
   "source": [
    "#updating the NAICS column with extracted codes.\n",
    "data.NAICS = code\n",
    "data.NAICS"
   ]
  },
  {
   "cell_type": "code",
   "execution_count": 15,
   "metadata": {},
   "outputs": [],
   "source": [
    "#a function to calculate the default rate respective\n",
    "def changer(data, list_, dicti, col):\n",
    "    for i in list_:\n",
    "        #getting the total number of loans\n",
    "        total = data[data[col] == i].shape[0]\n",
    "        #getting the \"default\" loans\n",
    "        defaults = data[(data[col] == i) & (data.MIS_Status == \"CHGOFF\")].shape[0]\n",
    "        #saving the percentage\n",
    "        dicti[i] = (defaults/total)*100.00\n",
    "    return data"
   ]
  },
  {
   "cell_type": "markdown",
   "metadata": {},
   "source": [
    "### Replacing the NAICS industry codes with their respective default rate."
   ]
  },
  {
   "cell_type": "code",
   "execution_count": 16,
   "metadata": {},
   "outputs": [],
   "source": [
    "#getting all the unique values in the NAICS column\n",
    "indus = (data.NAICS.unique())\n",
    "\n",
    "#a dictionary for mapping the industry code to default rate\n",
    "indus_def = {}\n",
    "\n",
    "data = changer(data, indus, indus_def, 'NAICS')"
   ]
  },
  {
   "cell_type": "code",
   "execution_count": 17,
   "metadata": {},
   "outputs": [],
   "source": [
    "#changing the values\n",
    "for i in indus_def:\n",
    "    data.loc[data.NAICS == i, 'NAICS'] = indus_def[i]"
   ]
  },
  {
   "cell_type": "markdown",
   "metadata": {},
   "source": [
    "## State and BankState"
   ]
  },
  {
   "cell_type": "markdown",
   "metadata": {},
   "source": [
    "### Instead of considering the name of states, replacing the states with the respective default rate."
   ]
  },
  {
   "cell_type": "code",
   "execution_count": 18,
   "metadata": {},
   "outputs": [],
   "source": [
    "#getting all the unique values in the columns 'State' and 'BankState'\n",
    "states = (data.State.unique())\n",
    "Bstates = (data.BankState.unique())\n",
    "\n",
    "#Dictionaries to map state with respective default rate\n",
    "state_def = {}\n",
    "Bstate_def = {}\n",
    "\n",
    "data = changer(data, states, state_def, 'State')\n",
    "data = changer(data, Bstates, Bstate_def, 'BankState')"
   ]
  },
  {
   "cell_type": "code",
   "execution_count": 19,
   "metadata": {},
   "outputs": [],
   "source": [
    "#changing the values\n",
    "\n",
    "#in the State column\n",
    "for i in state_def:\n",
    "    data.loc[data.State == i, 'State'] = state_def[i]\n",
    "\n",
    "#in the BankState column\n",
    "for j in Bstate_def:\n",
    "    data.loc[data.BankState == j, 'BankState'] = Bstate_def[j]"
   ]
  },
  {
   "cell_type": "markdown",
   "metadata": {},
   "source": [
    "## RealEstate\n",
    "### Since the term of loan is a function of expected life - time of the assests, so considering the loans with term of more than 240 months to be backed by RealEstate."
   ]
  },
  {
   "cell_type": "code",
   "execution_count": 20,
   "metadata": {},
   "outputs": [],
   "source": [
    "#appending a new column for RealEstate\n",
    "data['RealEstate'] = np.array(data.Term >= 240, dtype = int)"
   ]
  },
  {
   "cell_type": "markdown",
   "metadata": {},
   "source": [
    "## NewExist"
   ]
  },
  {
   "cell_type": "markdown",
   "metadata": {},
   "source": [
    "### According to the documentation there should be only two values in NewExist i.e. 1 (Existing business) or 2 (New business) ."
   ]
  },
  {
   "cell_type": "code",
   "execution_count": 21,
   "metadata": {},
   "outputs": [
    {
     "name": "stdout",
     "output_type": "stream",
     "text": [
      "1.0    636139\n",
      "2.0    249080\n",
      "0.0      1021\n",
      "Name: NewExist, dtype: int64\n"
     ]
    }
   ],
   "source": [
    "print(data.NewExist.value_counts())"
   ]
  },
  {
   "cell_type": "code",
   "execution_count": 22,
   "metadata": {},
   "outputs": [
    {
     "data": {
      "image/png": "[encoded data removed]",
      "text/plain": [
       "<Figure size 432x288 with 1 Axes>"
      ]
     },
     "metadata": {},
     "output_type": "display_data"
    }
   ],
   "source": [
    "#getting count of values in the column \n",
    "values = data.NewExist.value_counts().to_numpy()\n",
    "\n",
    "#providing labels\n",
    "labels = ['1', '2', '0']\n",
    "\n",
    "#plotting a pie chart\n",
    "plt.pie(x = values, labels = labels, autopct = '%.2f%%')\n",
    "plt.title('value distribution in \"NewExist\"')\n",
    "plt.show()"
   ]
  },
  {
   "cell_type": "markdown",
   "metadata": {},
   "source": [
    "### From the above plot it is evident that there are very less rows corresponding to 0 labels. Hence dropping the rows with 0 labels."
   ]
  },
  {
   "cell_type": "code",
   "execution_count": 23,
   "metadata": {},
   "outputs": [],
   "source": [
    "data.drop(data[data.NewExist == 0].index, inplace = True)\n",
    "data.reset_index(inplace = True, drop = True)"
   ]
  },
  {
   "cell_type": "markdown",
   "metadata": {},
   "source": [
    "## CreateJob"
   ]
  },
  {
   "cell_type": "code",
   "execution_count": 24,
   "metadata": {},
   "outputs": [
    {
     "data": {
      "text/plain": [
       "0      618973\n",
       "1       62267\n",
       "2       57034\n",
       "3       28447\n",
       "4       20232\n",
       "        ...  \n",
       "252         1\n",
       "183         1\n",
       "226         1\n",
       "210         1\n",
       "860         1\n",
       "Name: CreateJob, Length: 245, dtype: int64"
      ]
     },
     "execution_count": 24,
     "metadata": {},
     "output_type": "execute_result"
    }
   ],
   "source": [
    "data.CreateJob.value_counts()"
   ]
  },
  {
   "cell_type": "markdown",
   "metadata": {},
   "source": [
    "### Visualizing the value share between zero and non zero values in 'CreateJob'"
   ]
  },
  {
   "cell_type": "code",
   "execution_count": 25,
   "metadata": {},
   "outputs": [
    {
     "data": {
      "image/png": "[encoded data removed]",
      "text/plain": [
       "<Figure size 432x288 with 1 Axes>"
      ]
     },
     "metadata": {},
     "output_type": "display_data"
    }
   ],
   "source": [
    "#getting the count of zero and non zero values in the column 'CreateJob'\n",
    "values = [data[data.CreateJob == 0].shape[0], data.shape[0]-data[data.CreateJob == 0].shape[0]]\n",
    "\n",
    "#providing the labels\n",
    "labels = ['0s', 'Non 0s']\n",
    "\n",
    "#plotting a pie plot to see the distribution\n",
    "plt.pie(x = values, labels = labels, autopct = '%.2f%%')\n",
    "plt.title('Values share in \"CreateJob\"')\n",
    "plt.show()"
   ]
  },
  {
   "cell_type": "markdown",
   "metadata": {},
   "source": [
    "### Since a greater percentage of values in 'CreateJob' column are 0, thus dropping the column"
   ]
  },
  {
   "cell_type": "code",
   "execution_count": 26,
   "metadata": {},
   "outputs": [],
   "source": [
    "data.drop('CreateJob', axis = 1, inplace = True)"
   ]
  },
  {
   "cell_type": "markdown",
   "metadata": {},
   "source": [
    "## RetainedJob"
   ]
  },
  {
   "cell_type": "code",
   "execution_count": 27,
   "metadata": {},
   "outputs": [
    {
     "data": {
      "text/plain": [
       "0      432529\n",
       "1       87236\n",
       "2       75842\n",
       "3       49290\n",
       "4       39161\n",
       "        ...  \n",
       "182         1\n",
       "191         1\n",
       "247         1\n",
       "226         1\n",
       "198         1\n",
       "Name: RetainedJob, Length: 356, dtype: int64"
      ]
     },
     "execution_count": 27,
     "metadata": {},
     "output_type": "execute_result"
    }
   ],
   "source": [
    "data.RetainedJob.value_counts()"
   ]
  },
  {
   "cell_type": "markdown",
   "metadata": {},
   "source": [
    "### Visualizing the value share between zero and non zero values in 'ReatinedJob'"
   ]
  },
  {
   "cell_type": "code",
   "execution_count": 28,
   "metadata": {},
   "outputs": [
    {
     "data": {
      "image/png": "[encoded data removed]",
      "text/plain": [
       "<Figure size 432x288 with 1 Axes>"
      ]
     },
     "metadata": {},
     "output_type": "display_data"
    }
   ],
   "source": [
    "#getting the count of zero and non zero values in the column 'RetainedJob'\n",
    "values = [data[data.RetainedJob == 0].shape[0], data.shape[0]-data[data.RetainedJob == 0].shape[0]]\n",
    "\n",
    "#providing the labels\n",
    "labels = ['0s', 'Non 0s']\n",
    "\n",
    "#plotting a pie plot to see the distribution\n",
    "plt.pie(x = values, labels = labels, autopct = '%.2f%%')\n",
    "plt.title('Values share in \"RetainedJob\"')\n",
    "plt.show()"
   ]
  },
  {
   "cell_type": "markdown",
   "metadata": {},
   "source": [
    "### There is almost equal share of zero and non zero values, thus keeping 'RetainedJobs' column. "
   ]
  },
  {
   "cell_type": "markdown",
   "metadata": {},
   "source": [
    "## UrbanRural"
   ]
  },
  {
   "cell_type": "markdown",
   "metadata": {},
   "source": [
    "### According to the documentation there should only be two values, 1 (Urban) and 2(Rural)."
   ]
  },
  {
   "cell_type": "code",
   "execution_count": 29,
   "metadata": {},
   "outputs": [
    {
     "data": {
      "text/plain": [
       "1    464786\n",
       "0    316514\n",
       "2    103919\n",
       "Name: UrbanRural, dtype: int64"
      ]
     },
     "execution_count": 29,
     "metadata": {},
     "output_type": "execute_result"
    }
   ],
   "source": [
    "data.UrbanRural.value_counts()"
   ]
  },
  {
   "cell_type": "markdown",
   "metadata": {},
   "source": [
    "### Visualising the value distribution in 'UrbanRural'"
   ]
  },
  {
   "cell_type": "code",
   "execution_count": 30,
   "metadata": {},
   "outputs": [
    {
     "data": {
      "image/png": "[encoded data removed]",
      "text/plain": [
       "<Figure size 432x288 with 1 Axes>"
      ]
     },
     "metadata": {},
     "output_type": "display_data"
    }
   ],
   "source": [
    "#getting the values\n",
    "x = data.UrbanRural.value_counts().to_numpy()\n",
    "\n",
    "#plotting the chart\n",
    "plt.pie(x, labels = ['1 - Urban', '0 - Undef', '2 - Rural'], autopct = '%.2f%%')\n",
    "plt.title('Value Distribution in \"UrbanRural\"')\n",
    "plt.show()"
   ]
  },
  {
   "cell_type": "markdown",
   "metadata": {},
   "source": [
    "#### Further analysing on the basis of 'MIS_Status'"
   ]
  },
  {
   "cell_type": "code",
   "execution_count": 31,
   "metadata": {},
   "outputs": [
    {
     "data": {
      "image/png": "[encoded data removed]",
      "text/plain": [
       "<Figure size 432x288 with 3 Axes>"
      ]
     },
     "metadata": {},
     "output_type": "display_data"
    }
   ],
   "source": [
    "f, ax = plt.subplots(1, 3)\n",
    "\n",
    "#A function to plot the subplots for each area\n",
    "def custom_plot(data, area_code, area_name, index, ax):\n",
    "    #getting the data in related to the area\n",
    "    t = data[data.UrbanRural == area_code].MIS_Status.value_counts()\n",
    "    \n",
    "    #providing the title to the plot\n",
    "    ax[index].title.set_text(area_name)\n",
    "    \n",
    "    #plotting\n",
    "    patches, text, autotexts = ax[index].pie(t, labels = ['P I F', 'CHGOFF'], autopct = '%.2f%%', textprops = {'size' : 'smaller'})\n",
    "    plt.setp(autotexts, size='x-small')\n",
    "    autotexts[0].set_color('white')\n",
    "    return\n",
    "\n",
    "#for 'Urban Area'\n",
    "custom_plot(data, 1, 'Urban Area', 0, ax)\n",
    "\n",
    "#for 'Rural Area'\n",
    "custom_plot(data, 2, 'Rural Area', 1, ax)\n",
    "\n",
    "#for 'Undefined'\n",
    "custom_plot(data, 0, 'Undefined', 2, ax)\n",
    "\n",
    "#displaying\n",
    "plt.show()"
   ]
  },
  {
   "cell_type": "markdown",
   "metadata": {},
   "source": [
    "### From the above analysis, it is inferred that keeping this column would lead to a misinformed model. Thus dropping it."
   ]
  },
  {
   "cell_type": "code",
   "execution_count": 32,
   "metadata": {},
   "outputs": [],
   "source": [
    "data.drop('UrbanRural', axis = 1, inplace = True)"
   ]
  },
  {
   "cell_type": "markdown",
   "metadata": {},
   "source": [
    "## RevLineCr"
   ]
  },
  {
   "cell_type": "markdown",
   "metadata": {},
   "source": [
    "### According to the documentation it can have only two values either 'Y' or 'N'."
   ]
  },
  {
   "cell_type": "code",
   "execution_count": 33,
   "metadata": {},
   "outputs": [
    {
     "data": {
      "text/plain": [
       "N    414512\n",
       "0    257307\n",
       "Y    198236\n",
       "T     15100\n",
       "1        22\n",
       "R        14\n",
       "`        11\n",
       "2         6\n",
       "C         2\n",
       "3         1\n",
       ",         1\n",
       "7         1\n",
       "A         1\n",
       "5         1\n",
       ".         1\n",
       "4         1\n",
       "-         1\n",
       "Q         1\n",
       "Name: RevLineCr, dtype: int64"
      ]
     },
     "execution_count": 33,
     "metadata": {},
     "output_type": "execute_result"
    }
   ],
   "source": [
    "#getting all the values in the column\n",
    "data.RevLineCr.value_counts()"
   ]
  },
  {
   "cell_type": "markdown",
   "metadata": {},
   "source": [
    "### Origanally the values in this column should be either Y or N which should be converted to 1 or 0 respectively. On the keyboard keys 'T' & 'R' are just next to 'Y', thus assuming 'T' & 'R' to be 'Y' and 0 to be 'N', also 1 to be 'Y'. Removing other values."
   ]
  },
  {
   "cell_type": "code",
   "execution_count": 34,
   "metadata": {},
   "outputs": [
    {
     "data": {
      "text/plain": [
       "0    671819\n",
       "1    213372\n",
       "`        11\n",
       "2         6\n",
       "C         2\n",
       ",         1\n",
       "3         1\n",
       "7         1\n",
       "A         1\n",
       "5         1\n",
       ".         1\n",
       "4         1\n",
       "-         1\n",
       "Q         1\n",
       "Name: RevLineCr, dtype: int64"
      ]
     },
     "execution_count": 34,
     "metadata": {},
     "output_type": "execute_result"
    }
   ],
   "source": [
    "#a dictionary to map entries to 0 and 1\n",
    "correct = {'N' : 0, 'Y' : 1, '1' : 1, '0' : 0, 'T' : 1, 'R' : 1}\n",
    "\n",
    "#correcting the values\n",
    "for i in correct:\n",
    "    data.loc[data.RevLineCr == i, 'RevLineCr'] = correct[i]\n",
    "    \n",
    "data.RevLineCr.value_counts()"
   ]
  },
  {
   "cell_type": "code",
   "execution_count": 35,
   "metadata": {},
   "outputs": [],
   "source": [
    "#dropping the values which are not 0 or 1\n",
    "data.drop(data[(data.RevLineCr != 0) & (data.RevLineCr != 1)].index, inplace = True)\n",
    "data.reset_index(inplace = True, drop = True)"
   ]
  },
  {
   "cell_type": "markdown",
   "metadata": {},
   "source": [
    "## LowDoc"
   ]
  },
  {
   "cell_type": "markdown",
   "metadata": {},
   "source": [
    "### According to the documentation it can have only two values either 'Y' or 'N'."
   ]
  },
  {
   "cell_type": "code",
   "execution_count": 36,
   "metadata": {},
   "outputs": [
    {
     "data": {
      "text/plain": [
       "N    774279\n",
       "Y    107760\n",
       "0      1235\n",
       "C       752\n",
       "S       598\n",
       "A       492\n",
       "R        74\n",
       "1         1\n",
       "Name: LowDoc, dtype: int64"
      ]
     },
     "execution_count": 36,
     "metadata": {},
     "output_type": "execute_result"
    }
   ],
   "source": [
    "data.LowDoc.value_counts()"
   ]
  },
  {
   "cell_type": "markdown",
   "metadata": {},
   "source": [
    "### Assuming 'R' to be 'Y' and 0 to be 'N', also 1 to be 'Y'. Removing other values."
   ]
  },
  {
   "cell_type": "code",
   "execution_count": 37,
   "metadata": {},
   "outputs": [],
   "source": [
    "#correcting the values\n",
    "data.loc[data.LowDoc == 'N', 'LowDoc'] = 0\n",
    "data.loc[data.LowDoc == 'Y', 'LowDoc'] = 1\n",
    "data.loc[data.LowDoc == '0', 'LowDoc'] = 0\n",
    "data.loc[data.LowDoc == '1', 'LowDoc'] = 1\n",
    "data.loc[data.LowDoc == 'R', 'LowDoc'] = 1"
   ]
  },
  {
   "cell_type": "code",
   "execution_count": 38,
   "metadata": {},
   "outputs": [
    {
     "data": {
      "text/plain": [
       "0    775514\n",
       "1    107835\n",
       "C       752\n",
       "S       598\n",
       "A       492\n",
       "Name: LowDoc, dtype: int64"
      ]
     },
     "execution_count": 38,
     "metadata": {},
     "output_type": "execute_result"
    }
   ],
   "source": [
    "data.LowDoc.value_counts()"
   ]
  },
  {
   "cell_type": "code",
   "execution_count": 39,
   "metadata": {},
   "outputs": [],
   "source": [
    "#dropping the values other than 0 and 1\n",
    "data.drop(data[(data.LowDoc != 0) & (data.LowDoc != 1)].index, inplace = True)\n",
    "data.reset_index(inplace = True, drop = True)"
   ]
  },
  {
   "cell_type": "markdown",
   "metadata": {},
   "source": [
    "## *Formating the columns related to currency*"
   ]
  },
  {
   "cell_type": "code",
   "execution_count": 40,
   "metadata": {},
   "outputs": [],
   "source": [
    "#getting the columns related to currency\n",
    "columns = ['DisbursementGross', 'BalanceGross', 'ChgOffPrinGr', 'GrAppv', 'SBA_Appv']\n",
    "\n",
    "#formating the columns\n",
    "for column in columns:\n",
    "    #removing the '$' sign\n",
    "    x = data[column].str.replace('$', '')\n",
    "    #removing the ','\n",
    "    y = x.str.replace(',', '')\n",
    "    #changing string to float and then to int\n",
    "    y = y.astype(float)\n",
    "    y = y.astype(int)\n",
    "    #updating the values\n",
    "    data[column] = y"
   ]
  },
  {
   "cell_type": "markdown",
   "metadata": {},
   "source": [
    "## ChgOffPrinGr"
   ]
  },
  {
   "cell_type": "code",
   "execution_count": 41,
   "metadata": {},
   "outputs": [
    {
     "data": {
      "text/plain": [
       "0         723719\n",
       "50000       2101\n",
       "10000       1856\n",
       "25000       1361\n",
       "35000       1339\n",
       "           ...  \n",
       "37792          1\n",
       "45631          1\n",
       "48113          1\n",
       "73257          1\n",
       "124847         1\n",
       "Name: ChgOffPrinGr, Length: 82424, dtype: int64"
      ]
     },
     "execution_count": 41,
     "metadata": {},
     "output_type": "execute_result"
    }
   ],
   "source": [
    "data.ChgOffPrinGr.value_counts()"
   ]
  },
  {
   "cell_type": "markdown",
   "metadata": {},
   "source": [
    "### There are a large number of '0' values, further analysing."
   ]
  },
  {
   "cell_type": "code",
   "execution_count": 42,
   "metadata": {},
   "outputs": [
    {
     "name": "stdout",
     "output_type": "stream",
     "text": [
      "723719\n",
      "727873\n"
     ]
    }
   ],
   "source": [
    "#the count of zero values\n",
    "print(data.ChgOffPrinGr.value_counts()[0])\n",
    "\n",
    "#the count of rows with 'P I F' MIS_Status\n",
    "print(data[data.MIS_Status == 'P I F'].shape[0])"
   ]
  },
  {
   "cell_type": "markdown",
   "metadata": {},
   "source": [
    "### From the above expression and the variable description ( 'Charged off amount' ), it is clear that the '0' values correspond to the loans with MIS_Status as 'P I F'"
   ]
  },
  {
   "cell_type": "markdown",
   "metadata": {},
   "source": [
    "## Portion"
   ]
  },
  {
   "cell_type": "markdown",
   "metadata": {},
   "source": [
    "### The column SBA_Appv denotes the amount of loan gauranteed by SBA. Appending a new column whic represents the fraction of the loan gauranteed by SBA."
   ]
  },
  {
   "cell_type": "code",
   "execution_count": 43,
   "metadata": {},
   "outputs": [],
   "source": [
    "data['Portion'] = data.SBA_Appv/data.GrAppv"
   ]
  },
  {
   "cell_type": "markdown",
   "metadata": {},
   "source": [
    "## FranchiseCode\n",
    "### This denotes the Franchise code of the applicant if its a franchise. Else it is either 0 or 1"
   ]
  },
  {
   "cell_type": "code",
   "execution_count": 44,
   "metadata": {},
   "outputs": [],
   "source": [
    "#Changing the values to 0 if its not a Franchise\n",
    "data.loc[(data.FranchiseCode == 0) | (data.FranchiseCode == 1), 'FranchiseCode'] = 0\n",
    "\n",
    "#changing to 1\n",
    "data.loc[data.FranchiseCode != 0, 'FranchiseCode'] = 1"
   ]
  },
  {
   "cell_type": "markdown",
   "metadata": {},
   "source": [
    "### Visualising the column"
   ]
  },
  {
   "cell_type": "code",
   "execution_count": 45,
   "metadata": {},
   "outputs": [
    {
     "data": {
      "image/png": "[encoded data removed]",
      "text/plain": [
       "<Figure size 432x288 with 1 Axes>"
      ]
     },
     "metadata": {},
     "output_type": "display_data"
    }
   ],
   "source": [
    "sns.countplot(data.FranchiseCode, hue = 'MIS_Status', data = data);"
   ]
  },
  {
   "cell_type": "code",
   "execution_count": 46,
   "metadata": {},
   "outputs": [
    {
     "data": {
      "image/png": "[encoded data removed]",
      "text/plain": [
       "<Figure size 432x288 with 2 Axes>"
      ]
     },
     "metadata": {},
     "output_type": "display_data"
    }
   ],
   "source": [
    "#making subplots\n",
    "f, ax = plt.subplots(1, 2)\n",
    "\n",
    "#a function to plot the subplots\n",
    "def plot_custom(data, code, index, title):\n",
    "    #getting the values\n",
    "    t = data[data.FranchiseCode == code].MIS_Status.value_counts()\n",
    "    #setting up\n",
    "    ax[index].title.set_text(title)\n",
    "    ax[index].pie(t, labels = ['P I F', 'CHGOFF'], autopct = '%.2f%%')\n",
    "    return\n",
    "\n",
    "#plotting\n",
    "plot_custom(data, 0, 0, 'Franchise')\n",
    "plot_custom(data, 1, 1, 'Not a Franchise')\n",
    "\n",
    "#displaying\n",
    "plt.show()"
   ]
  },
  {
   "cell_type": "markdown",
   "metadata": {},
   "source": [
    "### From the above analysis it is inferred that being a Franchise or not doesn't effect the MIS_Status. Hence, excluding it from the data."
   ]
  },
  {
   "cell_type": "code",
   "execution_count": 47,
   "metadata": {},
   "outputs": [],
   "source": [
    "data.drop('FranchiseCode', axis = 1, inplace = True)"
   ]
  },
  {
   "cell_type": "markdown",
   "metadata": {},
   "source": [
    "## BalanceGross"
   ]
  },
  {
   "cell_type": "code",
   "execution_count": 48,
   "metadata": {},
   "outputs": [
    {
     "data": {
      "text/plain": [
       "0         883335\n",
       "12750          1\n",
       "827875         1\n",
       "25000          1\n",
       "37100          1\n",
       "43127          1\n",
       "84617          1\n",
       "1760           1\n",
       "115820         1\n",
       "996262         1\n",
       "395476         1\n",
       "41509          1\n",
       "600            1\n",
       "9111           1\n",
       "96908          1\n",
       "Name: BalanceGross, dtype: int64"
      ]
     },
     "execution_count": 48,
     "metadata": {},
     "output_type": "execute_result"
    }
   ],
   "source": [
    "data.BalanceGross.value_counts()"
   ]
  },
  {
   "cell_type": "markdown",
   "metadata": {},
   "source": [
    "### As seen above largely values are 0 thus droping this column."
   ]
  },
  {
   "cell_type": "code",
   "execution_count": 49,
   "metadata": {},
   "outputs": [],
   "source": [
    "data.drop('BalanceGross', axis = 1, inplace = True)"
   ]
  },
  {
   "cell_type": "markdown",
   "metadata": {},
   "source": [
    "## Other columns"
   ]
  },
  {
   "cell_type": "markdown",
   "metadata": {},
   "source": [
    "### The below mentioned columns are not useful for predictions thus, dropping them."
   ]
  },
  {
   "cell_type": "code",
   "execution_count": 50,
   "metadata": {},
   "outputs": [],
   "source": [
    "cols_td = ['LoanNr_ChkDgt', 'Name', 'City', 'Zip', 'Bank', 'ApprovalDate', 'ApprovalFY', 'DisbursementDate']"
   ]
  },
  {
   "cell_type": "code",
   "execution_count": 51,
   "metadata": {},
   "outputs": [],
   "source": [
    "data.drop(cols_td, axis = 1, inplace = True)"
   ]
  },
  {
   "cell_type": "markdown",
   "metadata": {},
   "source": [
    "# Data Preprocessing for Model"
   ]
  },
  {
   "cell_type": "code",
   "execution_count": 52,
   "metadata": {},
   "outputs": [],
   "source": [
    "#changing the values of the target variable as 0 and 1\n",
    "data.loc[data.MIS_Status == 'P I F', 'MIS_Status'] = 1\n",
    "data.loc[data.MIS_Status == 'CHGOFF', 'MIS_Status'] = 0"
   ]
  },
  {
   "cell_type": "code",
   "execution_count": 53,
   "metadata": {},
   "outputs": [],
   "source": [
    "#standardizing the below mentioned columns\n",
    "data[['State', 'BankState', 'NAICS', 'Term', 'NoEmp', 'RetainedJob', 'DisbursementGross', 'ChgOffPrinGr', \n",
    "           'GrAppv', 'SBA_Appv']] = StandardScaler().fit_transform(data[['State', 'BankState', 'NAICS', 'Term', 'NoEmp', 'RetainedJob', 'DisbursementGross', 'ChgOffPrinGr', \n",
    "           'GrAppv', 'SBA_Appv']])"
   ]
  },
  {
   "cell_type": "code",
   "execution_count": 54,
   "metadata": {},
   "outputs": [
    {
     "data": {
      "text/html": [
       "<div>\n",
       "<style scoped>\n",
       "    .dataframe tbody tr th:only-of-type {\n",
       "        vertical-align: middle;\n",
       "    }\n",
       "\n",
       "    .dataframe tbody tr th {\n",
       "        vertical-align: top;\n",
       "    }\n",
       "\n",
       "    .dataframe thead th {\n",
       "        text-align: right;\n",
       "    }\n",
       "</style>\n",
       "<table border=\"1\" class=\"dataframe\">\n",
       "  <thead>\n",
       "    <tr style=\"text-align: right;\">\n",
       "      <th></th>\n",
       "      <th>State</th>\n",
       "      <th>BankState</th>\n",
       "      <th>NAICS</th>\n",
       "      <th>Term</th>\n",
       "      <th>NoEmp</th>\n",
       "      <th>NewExist</th>\n",
       "      <th>RetainedJob</th>\n",
       "      <th>RevLineCr</th>\n",
       "      <th>LowDoc</th>\n",
       "      <th>DisbursementGross</th>\n",
       "      <th>MIS_Status</th>\n",
       "      <th>ChgOffPrinGr</th>\n",
       "      <th>GrAppv</th>\n",
       "      <th>SBA_Appv</th>\n",
       "      <th>RealEstate</th>\n",
       "      <th>Portion</th>\n",
       "    </tr>\n",
       "  </thead>\n",
       "  <tbody>\n",
       "    <tr>\n",
       "      <th>0</th>\n",
       "      <td>0.012614</td>\n",
       "      <td>-0.221810</td>\n",
       "      <td>0.922003</td>\n",
       "      <td>-0.340947</td>\n",
       "      <td>-0.099995</td>\n",
       "      <td>2.0</td>\n",
       "      <td>-0.045593</td>\n",
       "      <td>0</td>\n",
       "      <td>1</td>\n",
       "      <td>-0.493312</td>\n",
       "      <td>1</td>\n",
       "      <td>-0.207508</td>\n",
       "      <td>-0.470426</td>\n",
       "      <td>-0.446419</td>\n",
       "      <td>0</td>\n",
       "      <td>0.80</td>\n",
       "    </tr>\n",
       "    <tr>\n",
       "      <th>1</th>\n",
       "      <td>0.012614</td>\n",
       "      <td>-1.069264</td>\n",
       "      <td>0.698281</td>\n",
       "      <td>-0.644797</td>\n",
       "      <td>-0.126986</td>\n",
       "      <td>2.0</td>\n",
       "      <td>-0.045593</td>\n",
       "      <td>0</td>\n",
       "      <td>1</td>\n",
       "      <td>-0.562789</td>\n",
       "      <td>1</td>\n",
       "      <td>-0.207508</td>\n",
       "      <td>-0.540987</td>\n",
       "      <td>-0.516562</td>\n",
       "      <td>0</td>\n",
       "      <td>0.80</td>\n",
       "    </tr>\n",
       "    <tr>\n",
       "      <th>2</th>\n",
       "      <td>0.012614</td>\n",
       "      <td>-1.069264</td>\n",
       "      <td>-1.136927</td>\n",
       "      <td>0.874453</td>\n",
       "      <td>-0.059508</td>\n",
       "      <td>1.0</td>\n",
       "      <td>-0.045593</td>\n",
       "      <td>0</td>\n",
       "      <td>0</td>\n",
       "      <td>0.295254</td>\n",
       "      <td>1</td>\n",
       "      <td>-0.207508</td>\n",
       "      <td>0.330448</td>\n",
       "      <td>0.286791</td>\n",
       "      <td>0</td>\n",
       "      <td>0.75</td>\n",
       "    </tr>\n",
       "    <tr>\n",
       "      <th>3</th>\n",
       "      <td>-0.486530</td>\n",
       "      <td>-0.823934</td>\n",
       "      <td>-1.463865</td>\n",
       "      <td>-0.644797</td>\n",
       "      <td>-0.126986</td>\n",
       "      <td>1.0</td>\n",
       "      <td>-0.045593</td>\n",
       "      <td>0</td>\n",
       "      <td>1</td>\n",
       "      <td>-0.580158</td>\n",
       "      <td>1</td>\n",
       "      <td>-0.207508</td>\n",
       "      <td>-0.558628</td>\n",
       "      <td>-0.534097</td>\n",
       "      <td>0</td>\n",
       "      <td>0.80</td>\n",
       "    </tr>\n",
       "    <tr>\n",
       "      <th>4</th>\n",
       "      <td>2.326424</td>\n",
       "      <td>-0.206192</td>\n",
       "      <td>-1.463865</td>\n",
       "      <td>1.634078</td>\n",
       "      <td>0.034962</td>\n",
       "      <td>1.0</td>\n",
       "      <td>-0.016129</td>\n",
       "      <td>0</td>\n",
       "      <td>0</td>\n",
       "      <td>0.093770</td>\n",
       "      <td>1</td>\n",
       "      <td>-0.207508</td>\n",
       "      <td>0.125820</td>\n",
       "      <td>0.347070</td>\n",
       "      <td>1</td>\n",
       "      <td>1.00</td>\n",
       "    </tr>\n",
       "    <tr>\n",
       "      <th>...</th>\n",
       "      <td>...</td>\n",
       "      <td>...</td>\n",
       "      <td>...</td>\n",
       "      <td>...</td>\n",
       "      <td>...</td>\n",
       "      <td>...</td>\n",
       "      <td>...</td>\n",
       "      <td>...</td>\n",
       "      <td>...</td>\n",
       "      <td>...</td>\n",
       "      <td>...</td>\n",
       "      <td>...</td>\n",
       "      <td>...</td>\n",
       "      <td>...</td>\n",
       "      <td>...</td>\n",
       "      <td>...</td>\n",
       "    </tr>\n",
       "    <tr>\n",
       "      <th>883344</th>\n",
       "      <td>-0.259177</td>\n",
       "      <td>0.642135</td>\n",
       "      <td>0.922003</td>\n",
       "      <td>-0.644797</td>\n",
       "      <td>-0.073003</td>\n",
       "      <td>1.0</td>\n",
       "      <td>-0.045593</td>\n",
       "      <td>0</td>\n",
       "      <td>0</td>\n",
       "      <td>-0.458573</td>\n",
       "      <td>1</td>\n",
       "      <td>-0.207508</td>\n",
       "      <td>-0.435145</td>\n",
       "      <td>-0.411348</td>\n",
       "      <td>0</td>\n",
       "      <td>0.80</td>\n",
       "    </tr>\n",
       "    <tr>\n",
       "      <th>883345</th>\n",
       "      <td>-0.259177</td>\n",
       "      <td>0.642135</td>\n",
       "      <td>0.922003</td>\n",
       "      <td>-0.644797</td>\n",
       "      <td>-0.073003</td>\n",
       "      <td>1.0</td>\n",
       "      <td>-0.045593</td>\n",
       "      <td>1</td>\n",
       "      <td>0</td>\n",
       "      <td>-0.406465</td>\n",
       "      <td>1</td>\n",
       "      <td>-0.207508</td>\n",
       "      <td>-0.382224</td>\n",
       "      <td>-0.470531</td>\n",
       "      <td>0</td>\n",
       "      <td>0.50</td>\n",
       "    </tr>\n",
       "    <tr>\n",
       "      <th>883346</th>\n",
       "      <td>0.217959</td>\n",
       "      <td>0.554965</td>\n",
       "      <td>-0.620524</td>\n",
       "      <td>-0.037097</td>\n",
       "      <td>0.196911</td>\n",
       "      <td>1.0</td>\n",
       "      <td>-0.045593</td>\n",
       "      <td>0</td>\n",
       "      <td>0</td>\n",
       "      <td>0.340415</td>\n",
       "      <td>1</td>\n",
       "      <td>-0.207508</td>\n",
       "      <td>0.376313</td>\n",
       "      <td>0.329534</td>\n",
       "      <td>0</td>\n",
       "      <td>0.75</td>\n",
       "    </tr>\n",
       "    <tr>\n",
       "      <th>883347</th>\n",
       "      <td>-0.551536</td>\n",
       "      <td>-1.033011</td>\n",
       "      <td>-1.463865</td>\n",
       "      <td>-0.644797</td>\n",
       "      <td>-0.073003</td>\n",
       "      <td>1.0</td>\n",
       "      <td>-0.045593</td>\n",
       "      <td>0</td>\n",
       "      <td>1</td>\n",
       "      <td>-0.441204</td>\n",
       "      <td>0</td>\n",
       "      <td>0.500883</td>\n",
       "      <td>-0.417505</td>\n",
       "      <td>-0.393812</td>\n",
       "      <td>0</td>\n",
       "      <td>0.80</td>\n",
       "    </tr>\n",
       "    <tr>\n",
       "      <th>883348</th>\n",
       "      <td>-0.551536</td>\n",
       "      <td>-1.033011</td>\n",
       "      <td>-1.463865</td>\n",
       "      <td>-0.796722</td>\n",
       "      <td>-0.140482</td>\n",
       "      <td>2.0</td>\n",
       "      <td>-0.045593</td>\n",
       "      <td>0</td>\n",
       "      <td>0</td>\n",
       "      <td>-0.597528</td>\n",
       "      <td>1</td>\n",
       "      <td>-0.207508</td>\n",
       "      <td>-0.576268</td>\n",
       "      <td>-0.551633</td>\n",
       "      <td>0</td>\n",
       "      <td>0.80</td>\n",
       "    </tr>\n",
       "  </tbody>\n",
       "</table>\n",
       "<p>883349 rows × 16 columns</p>\n",
       "</div>"
      ],
      "text/plain": [
       "           State  BankState     NAICS      Term     NoEmp  NewExist  \\\n",
       "0       0.012614  -0.221810  0.922003 -0.340947 -0.099995       2.0   \n",
       "1       0.012614  -1.069264  0.698281 -0.644797 -0.126986       2.0   \n",
       "2       0.012614  -1.069264 -1.136927  0.874453 -0.059508       1.0   \n",
       "3      -0.486530  -0.823934 -1.463865 -0.644797 -0.126986       1.0   \n",
       "4       2.326424  -0.206192 -1.463865  1.634078  0.034962       1.0   \n",
       "...          ...        ...       ...       ...       ...       ...   \n",
       "883344 -0.259177   0.642135  0.922003 -0.644797 -0.073003       1.0   \n",
       "883345 -0.259177   0.642135  0.922003 -0.644797 -0.073003       1.0   \n",
       "883346  0.217959   0.554965 -0.620524 -0.037097  0.196911       1.0   \n",
       "883347 -0.551536  -1.033011 -1.463865 -0.644797 -0.073003       1.0   \n",
       "883348 -0.551536  -1.033011 -1.463865 -0.796722 -0.140482       2.0   \n",
       "\n",
       "        RetainedJob RevLineCr LowDoc  DisbursementGross MIS_Status  \\\n",
       "0         -0.045593         0      1          -0.493312          1   \n",
       "1         -0.045593         0      1          -0.562789          1   \n",
       "2         -0.045593         0      0           0.295254          1   \n",
       "3         -0.045593         0      1          -0.580158          1   \n",
       "4         -0.016129         0      0           0.093770          1   \n",
       "...             ...       ...    ...                ...        ...   \n",
       "883344    -0.045593         0      0          -0.458573          1   \n",
       "883345    -0.045593         1      0          -0.406465          1   \n",
       "883346    -0.045593         0      0           0.340415          1   \n",
       "883347    -0.045593         0      1          -0.441204          0   \n",
       "883348    -0.045593         0      0          -0.597528          1   \n",
       "\n",
       "        ChgOffPrinGr    GrAppv  SBA_Appv  RealEstate  Portion  \n",
       "0          -0.207508 -0.470426 -0.446419           0     0.80  \n",
       "1          -0.207508 -0.540987 -0.516562           0     0.80  \n",
       "2          -0.207508  0.330448  0.286791           0     0.75  \n",
       "3          -0.207508 -0.558628 -0.534097           0     0.80  \n",
       "4          -0.207508  0.125820  0.347070           1     1.00  \n",
       "...              ...       ...       ...         ...      ...  \n",
       "883344     -0.207508 -0.435145 -0.411348           0     0.80  \n",
       "883345     -0.207508 -0.382224 -0.470531           0     0.50  \n",
       "883346     -0.207508  0.376313  0.329534           0     0.75  \n",
       "883347      0.500883 -0.417505 -0.393812           0     0.80  \n",
       "883348     -0.207508 -0.576268 -0.551633           0     0.80  \n",
       "\n",
       "[883349 rows x 16 columns]"
      ]
     },
     "execution_count": 54,
     "metadata": {},
     "output_type": "execute_result"
    }
   ],
   "source": [
    "#final data\n",
    "data"
   ]
  },
  {
   "cell_type": "code",
   "execution_count": 55,
   "metadata": {},
   "outputs": [],
   "source": [
    "#creating Y array\n",
    "Y = data.MIS_Status.astype(int)\n",
    "\n",
    "#creating X array\n",
    "X = data.drop('MIS_Status', axis = 1)\n",
    "X = X.to_numpy()"
   ]
  },
  {
   "cell_type": "code",
   "execution_count": 56,
   "metadata": {},
   "outputs": [
    {
     "data": {
      "text/plain": [
       "(70, 15, 15)"
      ]
     },
     "execution_count": 56,
     "metadata": {},
     "output_type": "execute_result"
    }
   ],
   "source": [
    "#splitting the data into 3 parts, train, validation and test in 70:15:15 proportion respectively\n",
    "\n",
    "#train and test split\n",
    "Xtrain, Xtest, Ytrain, Ytest = model_selection.train_test_split(X, Y, test_size = 0.15, shuffle = True)\n",
    "\n",
    "#train and validation split\n",
    "Xtrain, Xval, Ytrain, Yval = model_selection.train_test_split(Xtrain, Ytrain, test_size = 0.17647, shuffle = True)\n",
    "\n",
    "Xtrain = np.asarray(Xtrain).astype(np.float32)\n",
    "Ytrain = np.asarray(Ytrain).astype(np.float32)\n",
    "Xtest = np.asarray(Xtest).astype(np.float32)\n",
    "Ytest = np.asarray(Ytest).astype(np.float32)\n",
    "Xval = np.asarray(Xval).astype(np.float32)\n",
    "Yval = np.asarray(Yval).astype(np.float32)\n",
    "\n",
    "\n",
    "#proportions\n",
    "ceil(len(Xtrain)/len(X)*100), ceil(len(Xval)/len(X)*100), int(len(Xtest)/len(X)*100)"
   ]
  },
  {
   "cell_type": "markdown",
   "metadata": {},
   "source": [
    "# Applying Machine Learning"
   ]
  },
  {
   "cell_type": "code",
   "execution_count": 57,
   "metadata": {},
   "outputs": [],
   "source": [
    "#applying a LogisticRegression Model\n",
    "clf_lr = LogisticRegression(max_iter = 250)"
   ]
  },
  {
   "cell_type": "code",
   "execution_count": 58,
   "metadata": {},
   "outputs": [],
   "source": [
    "#dictionary for various values of 'C' parameter\n",
    "c_values = {'C' : [0.9, 0.75, 0.5, 0.33]}\n",
    "\n",
    "#building the final classifier\n",
    "clf = model_selection.GridSearchCV(estimator = clf_lr, param_grid = c_values)"
   ]
  },
  {
   "cell_type": "code",
   "execution_count": 59,
   "metadata": {},
   "outputs": [
    {
     "data": {
      "text/plain": [
       "0.9835431410347638"
      ]
     },
     "execution_count": 59,
     "metadata": {},
     "output_type": "execute_result"
    }
   ],
   "source": [
    "#fitting the model\n",
    "clf.fit(Xtrain, Ytrain)\n",
    "\n",
    "#score on train set\n",
    "clf.score(Xtrain, Ytrain)"
   ]
  },
  {
   "cell_type": "code",
   "execution_count": 60,
   "metadata": {},
   "outputs": [
    {
     "name": "stdout",
     "output_type": "stream",
     "text": [
      "0.98313987713393\n"
     ]
    }
   ],
   "source": [
    "#score on validation set\n",
    "lr_val =  clf.score(Xval, Yval)\n",
    "print(lr_val)"
   ]
  },
  {
   "cell_type": "markdown",
   "metadata": {},
   "source": [
    "## The validation and training score are almost equal, hence it is a good fit model."
   ]
  },
  {
   "cell_type": "markdown",
   "metadata": {},
   "source": [
    "# Applying Deep Learning"
   ]
  },
  {
   "cell_type": "code",
   "execution_count": 60,
   "metadata": {},
   "outputs": [],
   "source": [
    "#making a sequential model\n",
    "model = Sequential()"
   ]
  },
  {
   "cell_type": "code",
   "execution_count": 61,
   "metadata": {},
   "outputs": [
    {
     "data": {
      "text/plain": [
       "(618344, 15)"
      ]
     },
     "execution_count": 61,
     "metadata": {},
     "output_type": "execute_result"
    }
   ],
   "source": [
    "#shape of train set\n",
    "Xtrain.shape"
   ]
  },
  {
   "cell_type": "code",
   "execution_count": 70,
   "metadata": {},
   "outputs": [],
   "source": [
    "#building the model\n",
    "\n",
    "#hidden layers\n",
    "layer1 = Dense(units = 64, activation = 'relu', input_dim = 15)\n",
    "layer2 = Dense(units = 64, activation = 'relu')\n",
    "layer3 = Dense(units = 128, activation = 'relu')\n",
    "\n",
    "#output layer\n",
    "layer4 = Dense(units = 1, activation = 'sigmoid')\n",
    "\n",
    "#adding the layers\n",
    "model.add(layer1)\n",
    "model.add(layer2)\n",
    "model.add(layer3)\n",
    "model.add(layer4)\n",
    "\n",
    "#using the RMS optimizer\n",
    "optimizer = keras.optimizers.RMSprop(lr = 0.001, rho = 0.9, epsilon = 1e-08, decay = 0.0)\n",
    "\n",
    "\n",
    "#compiling the model\n",
    "model.compile(optimizer = optimizer, loss = 'binary_crossentropy', metrics = ['acc'])"
   ]
  },
  {
   "cell_type": "code",
   "execution_count": 71,
   "metadata": {},
   "outputs": [],
   "source": [
    "# Reducing the learning rate when validation accuracy doesn't change for 2 epochs\n",
    "learning_rate_reduction = ReduceLROnPlateau(monitor = 'val_acc',\n",
    "                       patience = 2,\n",
    "                       verbose = 1,\n",
    "                       factor = 0.5,\n",
    "                       min_lr=0.00001)"
   ]
  },
  {
   "cell_type": "code",
   "execution_count": 72,
   "metadata": {},
   "outputs": [
    {
     "name": "stdout",
     "output_type": "stream",
     "text": [
      "Epoch 1/20\n",
      "19324/19324 [==============================] - 31s 2ms/step - loss: 0.0511 - acc: 0.9877 - val_loss: 0.0587 - val_acc: 0.9890 - lr: 0.0010\n",
      "Epoch 2/20\n",
      "19324/19324 [==============================] - 29s 1ms/step - loss: 0.0440 - acc: 0.9907 - val_loss: 0.0415 - val_acc: 0.9924 - lr: 0.0010\n",
      "Epoch 3/20\n",
      "19324/19324 [==============================] - 29s 2ms/step - loss: 0.0430 - acc: 0.9913 - val_loss: 0.0593 - val_acc: 0.9875 - lr: 0.0010\n",
      "Epoch 4/20\n",
      "19304/19324 [============================>.] - ETA: 0s - loss: 0.0428 - acc: 0.9914\n",
      "Epoch 4: ReduceLROnPlateau reducing learning rate to 0.0005000000237487257.\n",
      "19324/19324 [==============================] - 29s 2ms/step - loss: 0.0428 - acc: 0.9914 - val_loss: 0.0377 - val_acc: 0.9924 - lr: 0.0010\n",
      "Epoch 5/20\n",
      "19324/19324 [==============================] - 29s 2ms/step - loss: 0.0420 - acc: 0.9918 - val_loss: 0.0376 - val_acc: 0.9926 - lr: 5.0000e-04\n",
      "Epoch 6/20\n",
      "19324/19324 [==============================] - 30s 2ms/step - loss: 0.0436 - acc: 0.9915 - val_loss: 0.0411 - val_acc: 0.9919 - lr: 5.0000e-04\n",
      "Epoch 7/20\n",
      "19313/19324 [============================>.] - ETA: 0s - loss: 0.0448 - acc: 0.9911\n",
      "Epoch 7: ReduceLROnPlateau reducing learning rate to 0.0002500000118743628.\n",
      "19324/19324 [==============================] - 30s 2ms/step - loss: 0.0448 - acc: 0.9911 - val_loss: 0.0434 - val_acc: 0.9913 - lr: 5.0000e-04\n",
      "Epoch 8/20\n",
      "19324/19324 [==============================] - 29s 2ms/step - loss: 0.0428 - acc: 0.9915 - val_loss: 0.0391 - val_acc: 0.9919 - lr: 2.5000e-04\n",
      "Epoch 9/20\n",
      "19289/19324 [============================>.] - ETA: 0s - loss: 0.0427 - acc: 0.9916\n",
      "Epoch 9: ReduceLROnPlateau reducing learning rate to 0.0001250000059371814.\n",
      "19324/19324 [==============================] - 29s 2ms/step - loss: 0.0427 - acc: 0.9916 - val_loss: 0.0444 - val_acc: 0.9914 - lr: 2.5000e-04\n",
      "Epoch 10/20\n",
      "19324/19324 [==============================] - 29s 2ms/step - loss: 0.0422 - acc: 0.9917 - val_loss: 0.0462 - val_acc: 0.9917 - lr: 1.2500e-04\n",
      "Epoch 11/20\n",
      "19310/19324 [============================>.] - ETA: 0s - loss: 0.0429 - acc: 0.9915\n",
      "Epoch 11: ReduceLROnPlateau reducing learning rate to 6.25000029685907e-05.\n",
      "19324/19324 [==============================] - 29s 2ms/step - loss: 0.0429 - acc: 0.9915 - val_loss: 0.0431 - val_acc: 0.9916 - lr: 1.2500e-04\n",
      "Epoch 12/20\n",
      "19324/19324 [==============================] - 30s 2ms/step - loss: 0.0429 - acc: 0.9915 - val_loss: 0.0409 - val_acc: 0.9918 - lr: 6.2500e-05\n",
      "Epoch 13/20\n",
      "19297/19324 [============================>.] - ETA: 0s - loss: 0.0440 - acc: 0.9913\n",
      "Epoch 13: ReduceLROnPlateau reducing learning rate to 3.125000148429535e-05.\n",
      "19324/19324 [==============================] - 32s 2ms/step - loss: 0.0440 - acc: 0.9913 - val_loss: 0.0427 - val_acc: 0.9915 - lr: 6.2500e-05\n",
      "Epoch 14/20\n",
      "19324/19324 [==============================] - 32s 2ms/step - loss: 0.0439 - acc: 0.9913 - val_loss: 0.0417 - val_acc: 0.9915 - lr: 3.1250e-05\n",
      "Epoch 15/20\n",
      "19299/19324 [============================>.] - ETA: 0s - loss: 0.0441 - acc: 0.9913\n",
      "Epoch 15: ReduceLROnPlateau reducing learning rate to 1.5625000742147677e-05.\n",
      "19324/19324 [==============================] - 29s 2ms/step - loss: 0.0442 - acc: 0.9913 - val_loss: 0.0429 - val_acc: 0.9915 - lr: 3.1250e-05\n",
      "Epoch 16/20\n",
      "19324/19324 [==============================] - 29s 2ms/step - loss: 0.0438 - acc: 0.9914 - val_loss: 0.0429 - val_acc: 0.9914 - lr: 1.5625e-05\n",
      "Epoch 17/20\n",
      "19304/19324 [============================>.] - ETA: 0s - loss: 0.0441 - acc: 0.9913\n",
      "Epoch 17: ReduceLROnPlateau reducing learning rate to 1e-05.\n",
      "19324/19324 [==============================] - 29s 2ms/step - loss: 0.0441 - acc: 0.9913 - val_loss: 0.0435 - val_acc: 0.9914 - lr: 1.5625e-05\n",
      "Epoch 18/20\n",
      "19324/19324 [==============================] - 29s 2ms/step - loss: 0.0440 - acc: 0.9913 - val_loss: 0.0433 - val_acc: 0.9914 - lr: 1.0000e-05\n",
      "Epoch 19/20\n",
      "19324/19324 [==============================] - 30s 2ms/step - loss: 0.0442 - acc: 0.9912 - val_loss: 0.0431 - val_acc: 0.9915 - lr: 1.0000e-05\n",
      "Epoch 20/20\n",
      "19324/19324 [==============================] - 30s 2ms/step - loss: 0.0442 - acc: 0.9912 - val_loss: 0.0463 - val_acc: 0.9913 - lr: 1.0000e-05\n"
     ]
    },
    {
     "data": {
      "text/plain": [
       "<keras.callbacks.History at 0x219a038fd60>"
      ]
     },
     "execution_count": 72,
     "metadata": {},
     "output_type": "execute_result"
    }
   ],
   "source": [
    "#fitting the train data and also calculating the validation accuracy\n",
    "model.fit(Xtrain, Ytrain, epochs = 20, validation_data = (Xval, Yval), callbacks = [learning_rate_reduction])"
   ]
  },
  {
   "cell_type": "markdown",
   "metadata": {},
   "source": [
    "# Comparing the models"
   ]
  },
  {
   "cell_type": "markdown",
   "metadata": {},
   "source": [
    "## As seen above the DeepLearning model has a validation accuracy of *99.25%* where as the Machine Learning model has *98.35%*. Although it is not a large increase but still Deeplearning model is able to perform better."
   ]
  },
  {
   "cell_type": "markdown",
   "metadata": {},
   "source": [
    "# Predicting"
   ]
  },
  {
   "cell_type": "markdown",
   "metadata": {},
   "source": [
    "## since DeepLearning model is better, using it to make final predictions."
   ]
  },
  {
   "cell_type": "code",
   "execution_count": 83,
   "metadata": {},
   "outputs": [],
   "source": [
    "#predicting\n",
    "prediction_proba = model.predict(Xtest)"
   ]
  },
  {
   "cell_type": "markdown",
   "metadata": {},
   "source": [
    "## the model computes the probabilty of a given loan to be approved. Thus considering probabilities >= 0.5 to be predicting 1 and others 0."
   ]
  },
  {
   "cell_type": "code",
   "execution_count": 84,
   "metadata": {},
   "outputs": [],
   "source": [
    "#a list to store the predictions (0 or 1 values)\n",
    "pred = []\n",
    "\n",
    "#classifying as 0 or 1\n",
    "for i in range(len(prediction_proba)):\n",
    "    if(prediction_proba[i] >= 0.5):\n",
    "        pred.append(1)\n",
    "    else:\n",
    "        pred.append(0)"
   ]
  },
  {
   "cell_type": "markdown",
   "metadata": {},
   "source": [
    "## Report"
   ]
  },
  {
   "cell_type": "markdown",
   "metadata": {},
   "source": [
    "### Confusion Matrix"
   ]
  },
  {
   "cell_type": "code",
   "execution_count": 90,
   "metadata": {},
   "outputs": [
    {
     "data": {
      "image/png": "[encoded data removed]",
      "text/plain": [
       "<Figure size 432x288 with 2 Axes>"
      ]
     },
     "metadata": {},
     "output_type": "display_data"
    }
   ],
   "source": [
    "#confusion matrix\n",
    "cm = confusion_matrix(Ytest, pred)\n",
    "\n",
    "#confusion matrix as DataFrame\n",
    "df_cm = pd.DataFrame(cm, index = ['0', '1'], columns = ['0', '1'])\n",
    "\n",
    "#plotting Confusion Matrix\n",
    "sns.heatmap(df_cm, annot = True);\n",
    "plt.title('Confusion Matrix')\n",
    "plt.xlabel(\"Test Data\",fontsize=12,c='r')\n",
    "plt.ylabel(\"Deep Learning Prediction\",fontsize=12,c='r')\n",
    "plt.show()"
   ]
  },
  {
   "cell_type": "markdown",
   "metadata": {},
   "source": [
    "### Classification Report"
   ]
  },
  {
   "cell_type": "code",
   "execution_count": 86,
   "metadata": {},
   "outputs": [
    {
     "name": "stdout",
     "output_type": "stream",
     "text": [
      "              precision    recall  f1-score   support\n",
      "\n",
      "         0.0       0.97      0.99      0.98     23254\n",
      "         1.0       1.00      0.99      1.00    109249\n",
      "\n",
      "    accuracy                           0.99    132503\n",
      "   macro avg       0.99      0.99      0.99    132503\n",
      "weighted avg       0.99      0.99      0.99    132503\n",
      "\n"
     ]
    }
   ],
   "source": [
    "print(classification_report(Ytest, pred))"
   ]
  }
 ],
 "metadata": {
  "kernelspec": {
   "display_name": "Python 3 (ipykernel)",
   "language": "python",
   "name": "python3"
  },
  "language_info": {
   "codemirror_mode": {
    "name": "ipython",
    "version": 3
   },
   "file_extension": ".py",
   "mimetype": "text/x-python",
   "name": "python",
   "nbconvert_exporter": "python",
   "pygments_lexer": "ipython3",
   "version": "3.9.7"
  }
 },
 "nbformat": 4,
 "nbformat_minor": 4
}
